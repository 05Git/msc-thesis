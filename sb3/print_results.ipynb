{
 "cells": [
  {
   "cell_type": "code",
   "execution_count": null,
   "id": "initial_id",
   "metadata": {
    "collapsed": true
   },
   "outputs": [],
   "source": [
    "import matplotlib.pyplot as plt\n",
    "import numpy as np\n",
    "import json\n",
    "\n",
    "file_path = input()\n",
    "eval_results = json.load(file_path)\n",
    "\n",
    "print(\"-----------------------------\")\n",
    "print(\"-----Evaluation Results------\")\n",
    "print(\"-----------------------------\")\n",
    "\n",
    "x = np.linspace(1, len(envs_settings), num=len(envs_settings))\n",
    "colours = [\"r\", \"g\", \"b\", \"y\", \"m\", \"c\", \"k\"]\n",
    "for seed, idx in enumerate(seeds):\n",
    "    mean = [eval_results[seed][epoch][\"mean_rwd\"] for epoch in eval_results[seed]]\n",
    "    std = [eval_results[seed][epoch][\"std_rwd\"] for epoch in eval_results[seed]]\n",
    "    pos_std = [ya + yb for ya, yb in zip(mean, std)]\n",
    "    neg_std = [ya - yb for ya, yb in zip(mean, std)]\n",
    "    plt.plot(x, mean, color=colours[idx], label=f\"Seed: {seed}\")\n",
    "    plt.fill_between(x, pos_std, neg_std, facecolor=colours[idx], alpha=0.5)\n",
    "plt.grid()\n",
    "plt.legend()\n",
    "plt.ylabel(\"Average Reward Across 10 Evaluation Episodes\")\n",
    "if train_id:\n",
    "    if char_transfer:\n",
    "        plt.xlabel(\"Number of Characters\")\n",
    "    else:\n",
    "        plt.xlabel(\"Training Episodes\")\n",
    "else:\n",
    "    plt.xlabel(\"Number of Games\")\n",
    "plt.show()"
   ]
  }
 ],
 "metadata": {
  "kernelspec": {
   "display_name": "Python 3",
   "language": "python",
   "name": "python3"
  },
  "language_info": {
   "codemirror_mode": {
    "name": "ipython",
    "version": 2
   },
   "file_extension": ".py",
   "mimetype": "text/x-python",
   "name": "python",
   "nbconvert_exporter": "python",
   "pygments_lexer": "ipython2",
   "version": "2.7.6"
  }
 },
 "nbformat": 4,
 "nbformat_minor": 5
}
